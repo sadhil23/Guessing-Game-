{
 "cells": [
  {
   "cell_type": "code",
   "execution_count": 9,
   "metadata": {},
   "outputs": [
    {
     "name": "stdout",
     "output_type": "stream",
     "text": [
      ".                            GUESSING GAME                                      .\n"
     ]
    },
    {
     "name": "stdin",
     "output_type": "stream",
     "text": [
      "I'm thinking of a number between 1 and 100.\n",
      "What is your guess?  55\n"
     ]
    },
    {
     "name": "stdout",
     "output_type": "stream",
     "text": [
      "COLD!\n"
     ]
    },
    {
     "name": "stdin",
     "output_type": "stream",
     "text": [
      "I'm thinking of a number between 1 and 100.\n",
      "What is your guess?  34\n"
     ]
    },
    {
     "name": "stdout",
     "output_type": "stream",
     "text": [
      "WARMER!\n"
     ]
    },
    {
     "name": "stdin",
     "output_type": "stream",
     "text": [
      "I'm thinking of a number between 1 and 100.\n",
      "What is your guess?  23\n"
     ]
    },
    {
     "name": "stdout",
     "output_type": "stream",
     "text": [
      "WARMER!\n"
     ]
    },
    {
     "name": "stdin",
     "output_type": "stream",
     "text": [
      "I'm thinking of a number between 1 and 100.\n",
      "What is your guess?  12\n"
     ]
    },
    {
     "name": "stdout",
     "output_type": "stream",
     "text": [
      "WARMER!\n"
     ]
    },
    {
     "name": "stdin",
     "output_type": "stream",
     "text": [
      "I'm thinking of a number between 1 and 100.\n",
      "What is your guess?  9\n"
     ]
    },
    {
     "name": "stdout",
     "output_type": "stream",
     "text": [
      "WARMER!\n"
     ]
    },
    {
     "name": "stdin",
     "output_type": "stream",
     "text": [
      "I'm thinking of a number between 1 and 100.\n",
      "What is your guess?  8\n"
     ]
    },
    {
     "name": "stdout",
     "output_type": "stream",
     "text": [
      "WARMER!\n"
     ]
    },
    {
     "name": "stdin",
     "output_type": "stream",
     "text": [
      "I'm thinking of a number between 1 and 100.\n",
      "What is your guess?  7\n"
     ]
    },
    {
     "name": "stdout",
     "output_type": "stream",
     "text": [
      "WARMER!\n"
     ]
    },
    {
     "name": "stdin",
     "output_type": "stream",
     "text": [
      "I'm thinking of a number between 1 and 100.\n",
      "What is your guess?  5\n"
     ]
    },
    {
     "name": "stdout",
     "output_type": "stream",
     "text": [
      "COLDER!\n"
     ]
    },
    {
     "name": "stdin",
     "output_type": "stream",
     "text": [
      "I'm thinking of a number between 1 and 100.\n",
      "What is your guess?  6\n"
     ]
    },
    {
     "name": "stdout",
     "output_type": "stream",
     "text": [
      "CONGRATULATIONS, YOU GUESSED IT IN ONLY 9 GUESSES!!\n"
     ]
    }
   ],
   "source": [
    "import random\n",
    "\n",
    "a = random.randint(1, 100)\n",
    "print('.                            GUESSING GAME                                      .')\n",
    "\n",
    "mylist = []\n",
    "\n",
    "while True:\n",
    "    guess = int(input(\"I'm thinking of a number between 1 and 100.\\nWhat is your guess? \"))\n",
    "\n",
    "    if guess < 1 or guess > 100:\n",
    "        print('OUT OF BOUNDS! Please try again: ')\n",
    "        continue\n",
    "\n",
    "    mylist.append(guess)\n",
    "\n",
    "    if guess == a:\n",
    "        print(f'CONGRATULATIONS, YOU GUESSED IT IN ONLY {len(mylist)} GUESS{\"ES\" if len(mylist)>1 else \"\"}!!')\n",
    "        break\n",
    "\n",
    "    if len(mylist) == 1:\n",
    "        if abs(a - guess) <= 10:\n",
    "            print('WARM!')\n",
    "        else:\n",
    "            print('COLD!')\n",
    "    else:\n",
    "        if abs(a - guess) < abs(a - mylist[-2]):\n",
    "            print('WARMER!')\n",
    "        else:\n",
    "            print('COLDER!')\n"
   ]
  },
  {
   "cell_type": "code",
   "execution_count": null,
   "metadata": {},
   "outputs": [],
   "source": []
  },
  {
   "cell_type": "code",
   "execution_count": null,
   "metadata": {},
   "outputs": [],
   "source": []
  }
 ],
 "metadata": {
  "kernelspec": {
   "display_name": "Python 3 (ipykernel)",
   "language": "python",
   "name": "python3"
  },
  "language_info": {
   "codemirror_mode": {
    "name": "ipython",
    "version": 3
   },
   "file_extension": ".py",
   "mimetype": "text/x-python",
   "name": "python",
   "nbconvert_exporter": "python",
   "pygments_lexer": "ipython3",
   "version": "3.12.7"
  }
 },
 "nbformat": 4,
 "nbformat_minor": 4
}
